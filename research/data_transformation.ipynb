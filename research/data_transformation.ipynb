{
 "cells": [
  {
   "cell_type": "code",
   "execution_count": 1,
   "metadata": {},
   "outputs": [],
   "source": [
    "import os"
   ]
  },
  {
   "cell_type": "code",
   "execution_count": 2,
   "metadata": {},
   "outputs": [
    {
     "name": "stdout",
     "output_type": "stream",
     "text": [
      "/home/hawobade/MLOps/Anomaly-Detection-System-in-Network-Traffic\n"
     ]
    }
   ],
   "source": [
    "%cd ../"
   ]
  },
  {
   "cell_type": "code",
   "execution_count": 3,
   "metadata": {},
   "outputs": [],
   "source": [
    "from dataclasses import dataclass\n",
    "from pathlib import Path\n",
    "\n",
    "@dataclass(frozen=True)\n",
    "class DataTransformationConfig:\n",
    "    root_dir: Path\n",
    "    data_path: Path\n",
    "    preprocessed_data: Path"
   ]
  },
  {
   "cell_type": "code",
   "execution_count": 4,
   "metadata": {},
   "outputs": [],
   "source": [
    "from anomalyDetection import logger\n",
    "from anomalyDetection.constants import *\n",
    "from anomalyDetection.utils.common import read_yaml, create_directories\n"
   ]
  },
  {
   "cell_type": "code",
   "execution_count": 5,
   "metadata": {},
   "outputs": [],
   "source": [
    "class ConfigurationManager:\n",
    "    def __init__(self, config_filepath=CONFIG_FILE_PATH, params_filepath=PARAMS_FILE_PATH, schema_filepath=SCHEMA_FILE_PATH):\n",
    "        self.config = read_yaml(config_filepath)\n",
    "        self.params = read_yaml(params_filepath)\n",
    "        self.schema = read_yaml(schema_filepath)\n",
    "\n",
    "        create_directories([self.config.artifacts_root])\n",
    "\n",
    "    def get_data_transformation_config(self) -> DataTransformationConfig:\n",
    "        config = self.config.data_transformation\n",
    "\n",
    "        create_directories([config.root_dir])\n",
    "\n",
    "        data_transformation_config = DataTransformationConfig(\n",
    "            root_dir=config.root_dir,\n",
    "            data_path=config.data_path,\n",
    "            preprocessed_data=config.preprocessed_data,\n",
    "        )\n",
    "        return data_transformation_config"
   ]
  },
  {
   "cell_type": "code",
   "execution_count": 6,
   "metadata": {},
   "outputs": [],
   "source": [
    "import os\n",
    "from anomalyDetection import logger\n",
    "from sklearn.model_selection import train_test_split\n",
    "import pandas as pd\n",
    "from anomalyDetection import logging\n",
    "import numpy as np"
   ]
  },
  {
   "cell_type": "code",
   "execution_count": 7,
   "metadata": {},
   "outputs": [],
   "source": [
    "class DataTransformation:\n",
    "    def __init__(self, config: DataTransformationConfig) -> None:\n",
    "        self.config = config\n",
    "\n",
    "    def preprocess_data(self):\n",
    "        \"\"\"\n",
    "        Preprocess steps;\n",
    "            - drop missing values (nan, -inf, inf)\n",
    "            - encode categorical variables\n",
    "        \"\"\"\n",
    "        # missing values\n",
    "        df = pd.read_csv(self.config.data_path)\n",
    "        logger.info(\"Shape before removing inf, -inf values and nan values: {str(df.shape)}\")\n",
    "        df.replace([np.inf, -np.inf], np.nan, inplace=True)\n",
    "        df.dropna(inplace=True)\n",
    "        df.drop_duplicates(keep=\"first\", inplace=True)\n",
    "        logger.info(f\"Shape after removing duplicates, inf, -inf values and nan values: {str(df.shape)}\")\n",
    "        # encode categorical variables\n",
    "        df.Label.replace(\"Web.*\", \"Web Attack\", regex=True, inplace=True)\n",
    "        df.Label.replace(r'.*Patator$', \"Brute Force\", regex=True,inplace=True)\n",
    "        df.Label.replace([\"DoS GoldenEye\", \"DoS Hulk\", \"DoS Slowhttptest\", \"DoS slowloris\"], \"DoS\", inplace=True)\n",
    "        df.Label.replace([\"DoS\", \"PortScan\", \"DDoS\", \"Brute Force\", \"Web Attack\", \"Bot\", \"Infiltration\", \"Heartbleed\"], \"Attack\", inplace=True)\n",
    "        df.Label.replace(\"BENIGN\", \"Normal\", inplace=True)\n",
    "        logger.info(f\"The target labels are:  {df.Label.unique().tolist()}\")\n",
    "        df.Label.replace({\"Normal\": 1, \"Attack\": -1}, inplace=True)\n",
    "        df.to_csv(self.config.preprocessed_data, index=False)\n",
    "\n",
    "    def split_data(self):\n",
    "        data = pd.read_csv(self.config.preprocessed_data)\n",
    "\n",
    "        logger.info(\"Splitting data...\")\n",
    "        train_data, test_data = train_test_split(data, random_state=42, shuffle=True)\n",
    "\n",
    "        train_data.to_csv(os.path.join(self.config.root_dir, 'train.csv'), index=False)\n",
    "        test_data.to_csv(os.path.join(self.config.root_dir, 'test.csv'), index=False)\n",
    "\n",
    "        logger.info(f\"Train shape: {train_data.shape}\")\n",
    "        logger.info(f\"test shape: {test_data.shape}\")"
   ]
  },
  {
   "cell_type": "code",
   "execution_count": 8,
   "metadata": {},
   "outputs": [
    {
     "name": "stdout",
     "output_type": "stream",
     "text": [
      "[2023-10-21 02:09:55,220: INFO: common: yaml file: config/config.yaml loaded successfully]\n",
      "[2023-10-21 02:09:55,229: INFO: common: yaml file: params.yaml loaded successfully]\n",
      "[2023-10-21 02:09:55,242: INFO: common: yaml file: schema.yaml loaded successfully]\n",
      "[2023-10-21 02:09:55,245: INFO: common: created directory at: artifacts]\n",
      "[2023-10-21 02:09:55,247: INFO: common: created directory at: artifacts/data_transformation]\n"
     ]
    },
    {
     "name": "stdout",
     "output_type": "stream",
     "text": [
      "[2023-10-21 02:10:33,439: INFO: 2303816588: Shape before removing inf, -inf values and nan values: {str(df.shape)}]\n",
      "[2023-10-21 02:10:58,969: INFO: 2303816588: Shape after removing duplicates, inf, -inf values and nan values: (2520798, 79)]\n",
      "[2023-10-21 02:11:05,297: INFO: 2303816588: The target labels are:  ['Normal', 'Attack']]\n",
      "[2023-10-21 02:13:11,733: INFO: 2303816588: Splitting data...]\n",
      "[2023-10-21 02:14:59,394: INFO: 2303816588: Train shape: (1890598, 79)]\n",
      "[2023-10-21 02:14:59,396: INFO: 2303816588: test shape: (630200, 79)]\n"
     ]
    }
   ],
   "source": [
    "try:\n",
    "    config = ConfigurationManager()\n",
    "    data_transformation_config = config.get_data_transformation_config()\n",
    "    data_transformation = DataTransformation(data_transformation_config)\n",
    "    data_transformation.preprocess_data()\n",
    "    data_transformation.split_data()\n",
    "except Exception as e:\n",
    "    raise e"
   ]
  },
  {
   "cell_type": "code",
   "execution_count": 14,
   "metadata": {},
   "outputs": [],
   "source": [
    "data_dir = Path('artifacts/data_ingestion/cicdataset')\n",
    "csv_files = list(data_dir.glob(r'*/*/*.csv'))\n",
    "df = pd.concat([pd.read_csv(file) for file in csv_files], ignore_index=True)    "
   ]
  },
  {
   "cell_type": "code",
   "execution_count": 15,
   "metadata": {},
   "outputs": [
    {
     "name": "stdout",
     "output_type": "stream",
     "text": [
      "Shape before removing inf, -inf values and nan values:  (2830743, 79)\n",
      "Shape after removing inf, -inf values and nan values:  (2827876, 79)\n"
     ]
    }
   ],
   "source": [
    "print('Shape before removing inf, -inf values and nan values: ', df.shape)\n",
    "df.replace([np.inf, -np.inf], np.nan, inplace=True)\n",
    "df.dropna(inplace=True)\n",
    "print('Shape after removing inf, -inf values and nan values: ', df.shape)\n",
    "df.columns = df.columns.str.strip()"
   ]
  },
  {
   "cell_type": "code",
   "execution_count": 16,
   "metadata": {},
   "outputs": [
    {
     "data": {
      "text/plain": [
       "Label\n",
       "BENIGN          2271320\n",
       "DoS              251712\n",
       "PortScan         158804\n",
       "DDoS             128025\n",
       "Brute Force       13832\n",
       "Web Attack         2180\n",
       "Bot                1956\n",
       "Infiltration         36\n",
       "Heartbleed           11\n",
       "Name: count, dtype: int64"
      ]
     },
     "execution_count": 16,
     "metadata": {},
     "output_type": "execute_result"
    }
   ],
   "source": [
    "df_experiment = df.copy()\n",
    "df_experiment.Label.replace(\"Web.*\", \"Web Attack\", regex=True, inplace=True)\n",
    "df_experiment.Label.replace(r'.*Patator$', \"Brute Force\", regex=True,inplace=True)\n",
    "df_experiment.Label.replace([\"DoS GoldenEye\", \"DoS Hulk\", \"DoS Slowhttptest\", \"DoS slowloris\"], \"DoS\", inplace=True)\n",
    "df_experiment.Label.value_counts()"
   ]
  },
  {
   "cell_type": "code",
   "execution_count": 19,
   "metadata": {},
   "outputs": [
    {
     "data": {
      "text/plain": [
       "Label\n",
       "BENIGN         2271320\n",
       "DoS             251712\n",
       "PortScan        158804\n",
       "DDoS            128025\n",
       "Brute Force      13832\n",
       "Web Attack        2180\n",
       "Bot               1956\n",
       "Name: count, dtype: int64"
      ]
     },
     "execution_count": 19,
     "metadata": {},
     "output_type": "execute_result"
    }
   ],
   "source": [
    "df_experiment = df_experiment[~df_experiment['Label'].isin(['Infiltration', 'Heartbleed'])]\n",
    "df_experiment['Label'].value_counts()"
   ]
  },
  {
   "cell_type": "code",
   "execution_count": 20,
   "metadata": {},
   "outputs": [
    {
     "data": {
      "text/plain": [
       "<Axes: xlabel='Label'>"
      ]
     },
     "execution_count": 20,
     "metadata": {},
     "output_type": "execute_result"
    },
    {
     "data": {
      "image/png": "[encoded data removed]",
      "text/plain": [
       "<Figure size 640x480 with 1 Axes>"
      ]
     },
     "metadata": {},
     "output_type": "display_data"
    }
   ],
   "source": [
    "df_experiment['Label'].value_counts().plot(kind='bar')"
   ]
  }
 ],
 "metadata": {
  "kernelspec": {
   "display_name": "Anomaly-Detection-System-in-Network-Traffi-PmXNZhKH",
   "language": "python",
   "name": "python3"
  },
  "language_info": {
   "codemirror_mode": {
    "name": "ipython",
    "version": 3
   },
   "file_extension": ".py",
   "mimetype": "text/x-python",
   "name": "python",
   "nbconvert_exporter": "python",
   "pygments_lexer": "ipython3",
   "version": "3.9.2"
  }
 },
 "nbformat": 4,
 "nbformat_minor": 2
}
